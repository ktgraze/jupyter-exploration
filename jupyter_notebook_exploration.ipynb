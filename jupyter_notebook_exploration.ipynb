{
 "cells": [
  {
   "cell_type": "markdown",
   "id": "2b828f05-99d3-44ae-8195-938dea147b05",
   "metadata": {},
   "source": [
    "# Not quite my first Markdown cell in Jupyter!"
   ]
  },
  {
   "cell_type": "code",
   "execution_count": 2,
   "id": "90caf689-4853-4ef2-87e5-97787417e545",
   "metadata": {},
   "outputs": [
    {
     "name": "stdout",
     "output_type": "stream",
     "text": [
      "Hello, World!\n"
     ]
    }
   ],
   "source": [
    "print(\"Hello, World!\")"
   ]
  }
 ],
 "metadata": {
  "kernelspec": {
   "display_name": "Python 3 (ipykernel)",
   "language": "python",
   "name": "python3"
  },
  "language_info": {
   "codemirror_mode": {
    "name": "ipython",
    "version": 3
   },
   "file_extension": ".py",
   "mimetype": "text/x-python",
   "name": "python",
   "nbconvert_exporter": "python",
   "pygments_lexer": "ipython3",
   "version": "3.11.7"
  }
 },
 "nbformat": 4,
 "nbformat_minor": 5
}
